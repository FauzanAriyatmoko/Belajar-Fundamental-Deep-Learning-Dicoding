{
  "nbformat": 4,
  "nbformat_minor": 0,
  "metadata": {
    "colab": {
      "provenance": []
    },
    "kernelspec": {
      "name": "python3",
      "display_name": "Python 3"
    },
    "language_info": {
      "name": "python"
    }
  },
  "cells": [
    {
      "cell_type": "markdown",
      "source": [
        "# **Scrapping Code - APK PlayStore PUBG Mobile**\n",
        "\n",
        "- Nama : Muhammad Fauzan Ariyatmoko\n",
        "- ID_Dicoding (user) : muhammad_fauzan_a\n",
        "- Kelas : Belajar Pengembangan Machine Learning (Proyek Pertama)"
      ],
      "metadata": {
        "id": "oYYOS4rA0KQX"
      }
    },
    {
      "cell_type": "markdown",
      "source": [
        "## **Import Library**"
      ],
      "metadata": {
        "id": "a7P4LfXg01qT"
      }
    },
    {
      "cell_type": "code",
      "execution_count": null,
      "metadata": {
        "id": "crYby6tr0BhZ"
      },
      "outputs": [],
      "source": [
        "!pip install google-play-scraper"
      ]
    },
    {
      "cell_type": "code",
      "source": [
        "from google_play_scraper import app, reviews, Sort, reviews_all"
      ],
      "metadata": {
        "id": "UEbk84WG0UaE"
      },
      "execution_count": null,
      "outputs": []
    },
    {
      "cell_type": "code",
      "source": [
        "from google_play_scraper import app, reviews_all, Sort\n",
        "\n",
        "scrapreview = reviews_all(\n",
        "    'com.tencent.ig',\n",
        "    lang='id',\n",
        "    country='id',\n",
        "    sort=Sort.MOST_RELEVANT,\n",
        "    count=50000\n",
        ")"
      ],
      "metadata": {
        "id": "iNnOO49k0nlA"
      },
      "execution_count": null,
      "outputs": []
    },
    {
      "cell_type": "markdown",
      "source": [
        "## **Save Data Scrapping**"
      ],
      "metadata": {
        "id": "X2XWbBPD060i"
      }
    },
    {
      "cell_type": "code",
      "source": [
        "import csv\n",
        "\n",
        "with open('ulasan_pubg.csv', mode='w', newline='', encoding='utf-8') as file:\n",
        "    writer = csv.writer(file)\n",
        "    writer.writerow(['Review'])\n",
        "    for review in scrapreview:\n",
        "        writer.writerow([review['content']])"
      ],
      "metadata": {
        "id": "Y1qg3My90qXK"
      },
      "execution_count": null,
      "outputs": []
    }
  ]
}